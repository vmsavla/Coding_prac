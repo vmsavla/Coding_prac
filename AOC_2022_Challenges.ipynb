{
 "cells": [
  {
   "cell_type": "markdown",
   "id": "d662c828-9fc3-4d85-b132-f64b62c6671a",
   "metadata": {},
   "source": [
    "__Day 1__ \n",
    "https://adventofcode.com/2022/day/1"
   ]
  },
  {
   "cell_type": "code",
   "execution_count": 64,
   "id": "97d0c9a6-fa36-4c62-bf42-936591ce44b0",
   "metadata": {},
   "outputs": [
    {
     "name": "stdout",
     "output_type": "stream",
     "text": [
      "75622\n",
      "213159\n"
     ]
    }
   ],
   "source": [
    "f = open('Input_Data/AOC2022D1.txt')\n",
    "list_cal = []\n",
    "each_elf = f.read().split('\\n\\n')\n",
    "\n",
    "for elem in each_elf:\n",
    "    list_cal.append(elem.split('\\n'))\n",
    "\n",
    "final_cal  = []\n",
    "\n",
    "for elf_cal in list_cal:\n",
    "    total_calories=0\n",
    "    for cal in elf_cal:\n",
    "        if cal:\n",
    "            total_calories += int(cal)\n",
    "    final_cal.append(total_calories)\n",
    "\n",
    "# find the highest total calories\n",
    "print(sorted(final_cal,reverse = True)[0])\n",
    "\n",
    "# find the total calories of the top three elves\n",
    "print(sum(sorted(final_cal,reverse = True)[:3]))\n",
    "\n",
    "f.close()"
   ]
  },
  {
   "cell_type": "markdown",
   "id": "0c229d1e-3b14-4a95-9d53-be685c384fce",
   "metadata": {},
   "source": [
    "__Day 2__\n",
    "https://adventofcode.com/2022/day/2"
   ]
  },
  {
   "cell_type": "code",
   "execution_count": 98,
   "id": "c4c15192-9727-425a-a203-ca197159f605",
   "metadata": {},
   "outputs": [
    {
     "name": "stdout",
     "output_type": "stream",
     "text": [
      "12794\n",
      "14979\n"
     ]
    }
   ],
   "source": [
    "f = open('Input_Data/AOC2022D2.txt')\n",
    "comp_inp = []\n",
    "user_inp = []\n",
    "\n",
    "each_round = f.read().split('\\n')\n",
    "\n",
    "for round in each_round:\n",
    "    if round:\n",
    "        comp,user = round.split()\n",
    "        comp_inp.append(comp)\n",
    "        user_inp.append(user)\n",
    "\n",
    "# part 1\n",
    "total_score = 0\n",
    "\n",
    "for comp,user in zip(comp_inp,user_inp):\n",
    "    if user == \"X\":\n",
    "        total_score += 1\n",
    "    elif user == \"Y\":\n",
    "        total_score += 2\n",
    "    elif user == \"Z\":\n",
    "        total_score += 3\n",
    "    #print(user, total_score)\n",
    "    if (comp == \"A\" and user == \"X\") or (comp == \"B\" and user == \"Y\") or (comp == \"C\" and user == \"Z\"):\n",
    "        total_score += 3\n",
    "    elif (comp == \"C\" and user == \"X\") or (comp == \"A\" and user == \"Y\") or (comp == \"B\" and user == \"Z\"):\n",
    "        total_score += 6\n",
    "\n",
    "print(total_score)\n",
    "\n",
    "# part 2 - new strategy for scoring\n",
    "total_score = 0\n",
    "\n",
    "for comp,user in zip(comp_inp,user_inp):\n",
    "    if user == \"X\":\n",
    "        if comp == \"A\":\n",
    "            user = \"Z\"\n",
    "        elif comp == \"B\":\n",
    "            user = \"X\"\n",
    "        elif comp == \"C\":\n",
    "            user = \"Y\"\n",
    "    elif user == \"Y\":\n",
    "        if comp == \"A\":\n",
    "            user = \"X\"\n",
    "            total_score += 3\n",
    "        elif comp == \"B\":\n",
    "            user = \"Y\"\n",
    "            total_score += 3\n",
    "        elif comp == \"C\":\n",
    "            user = \"Z\"\n",
    "            total_score += 3\n",
    "    elif user == \"Z\":\n",
    "        if comp == \"A\":\n",
    "            user = \"Y\"\n",
    "            total_score += 6\n",
    "        elif comp == \"B\":\n",
    "            user = \"Z\"\n",
    "            total_score += 6\n",
    "        elif comp == \"C\":\n",
    "            user = \"X\"\n",
    "            total_score += 6\n",
    "    if user == \"X\":\n",
    "        total_score += 1\n",
    "    elif user == \"Y\":\n",
    "        total_score += 2\n",
    "    elif user == \"Z\":\n",
    "        total_score += 3\n",
    "\n",
    "print(total_score)\n",
    "\n",
    "f.close()"
   ]
  },
  {
   "cell_type": "markdown",
   "id": "982ef317-34f6-4263-987c-1ec95d21fd42",
   "metadata": {},
   "source": [
    "__Day 3__\n",
    "https://adventofcode.com/2022/day/3"
   ]
  },
  {
   "cell_type": "code",
   "execution_count": 186,
   "id": "e9132db2-d04c-4895-a8f5-b6aab0515301",
   "metadata": {},
   "outputs": [
    {
     "name": "stdout",
     "output_type": "stream",
     "text": [
      "8252\n",
      "2828\n"
     ]
    }
   ],
   "source": [
    "f = open('Input_Data/AOC2022D3.txt')\n",
    "\n",
    "input_lst = list(f.read().rstrip().split('\\n'))\n",
    "\n",
    "#input_lst = ['vJrwpWtwJgWrhcsFMMfFFhFp','jqHRNqRjqzjGDLGLrsFMfFZSrLrFZsSL','PmmdzqPrVvPwwTWBwg','wMqvLMZHhHMvwLHjbvcjnnSBnvTQFn','ttgJtRGJQctTZtZT','CrZsJsPPZsGzwwsLwLmpwMDw']\n",
    "priority = {'a': 1, 'b': 2, 'c': 3, 'd': 4, 'e': 5, 'f': 6, 'g': 7, 'h': 8, 'i': 9, 'j': 10,\n",
    "    'k': 11, 'l': 12, 'm': 13, 'n': 14, 'o': 15, 'p': 16, 'q': 17, 'r': 18, 's': 19,\n",
    "    't': 20, 'u': 21, 'v': 22, 'w': 23, 'x': 24, 'y': 25, 'z': 26,\n",
    "    'A': 27, 'B': 28, 'C': 29, 'D': 30, 'E': 31, 'F': 32, 'G': 33, 'H': 34, 'I': 35,\n",
    "    'J': 36, 'K': 37, 'L': 38, 'M': 39, 'N': 40, 'O': 41, 'P': 42, 'Q': 43, 'R': 44,\n",
    "    'S': 45, 'T': 46, 'U': 47, 'V': 48, 'W': 49, 'X': 50, 'Y': 51, 'Z': 52}\n",
    "score = 0\n",
    "for inp in input_lst:\n",
    "    half = len(inp)//2\n",
    "    first_half = set(inp[:half])\n",
    "    second_half = set(inp[half:])\n",
    "    common = first_half.intersection(second_half)\n",
    "    for c in common:\n",
    "        score += priority[c]\n",
    "print(score)\n",
    "\n",
    "\n",
    "score = 0\n",
    "for i in range(0, len(input_lst), 3):\n",
    "    grouped = input_lst[i:i+3]\n",
    "    common = set(grouped[0]).intersection(set(grouped[1])).intersection(set(grouped[2]))\n",
    "    for c in common:\n",
    "        score += priority[c]\n",
    "print(score)\n",
    "    \n",
    "\n",
    "f.close()"
   ]
  },
  {
   "cell_type": "markdown",
   "id": "b884ddd3-916b-4abb-9fab-147c0f2dc229",
   "metadata": {},
   "source": [
    "__Day 4__\n",
    "https://adventofcode.com/2022/day/4"
   ]
  },
  {
   "cell_type": "code",
   "execution_count": null,
   "id": "4324a321-fe7f-4cd7-8e68-a255db4ea784",
   "metadata": {},
   "outputs": [],
   "source": []
  }
 ],
 "metadata": {
  "kernelspec": {
   "display_name": "Python 3 (ipykernel)",
   "language": "python",
   "name": "python3"
  },
  "language_info": {
   "codemirror_mode": {
    "name": "ipython",
    "version": 3
   },
   "file_extension": ".py",
   "mimetype": "text/x-python",
   "name": "python",
   "nbconvert_exporter": "python",
   "pygments_lexer": "ipython3",
   "version": "3.12.2"
  }
 },
 "nbformat": 4,
 "nbformat_minor": 5
}
