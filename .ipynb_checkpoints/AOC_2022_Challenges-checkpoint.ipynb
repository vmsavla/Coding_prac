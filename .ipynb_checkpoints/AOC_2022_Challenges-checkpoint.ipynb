{
 "cells": [
  {
   "cell_type": "markdown",
   "id": "d662c828-9fc3-4d85-b132-f64b62c6671a",
   "metadata": {},
   "source": [
    "__Day 1__ \n",
    "https://adventofcode.com/2022/day/1"
   ]
  },
  {
   "cell_type": "code",
   "execution_count": 64,
   "id": "97d0c9a6-fa36-4c62-bf42-936591ce44b0",
   "metadata": {},
   "outputs": [
    {
     "name": "stdout",
     "output_type": "stream",
     "text": [
      "75622\n",
      "213159\n"
     ]
    }
   ],
   "source": [
    "f = open('Input_Data/AOC2022D1.txt')\n",
    "list_cal = []\n",
    "each_elf = f.read().split('\\n\\n')\n",
    "\n",
    "for elem in each_elf:\n",
    "    list_cal.append(elem.split('\\n'))\n",
    "\n",
    "final_cal  = []\n",
    "\n",
    "for elf_cal in list_cal:\n",
    "    total_calories=0\n",
    "    for cal in elf_cal:\n",
    "        if cal:\n",
    "            total_calories += int(cal)\n",
    "    final_cal.append(total_calories)\n",
    "\n",
    "# find the highest total calories\n",
    "print(sorted(final_cal,reverse = True)[0])\n",
    "\n",
    "# find the total calories of the top three elves\n",
    "print(sum(sorted(final_cal,reverse = True)[:3]))\n",
    "\n",
    "f.close()"
   ]
  },
  {
   "cell_type": "code",
   "execution_count": null,
   "id": "7a51fd00-01de-4f4a-9624-ca7d11a07a96",
   "metadata": {},
   "outputs": [],
   "source": []
  },
  {
   "cell_type": "code",
   "execution_count": null,
   "id": "7853ac91-92b2-4abd-bd31-5d0a5e683bd2",
   "metadata": {},
   "outputs": [],
   "source": []
  }
 ],
 "metadata": {
  "kernelspec": {
   "display_name": "Python 3 (ipykernel)",
   "language": "python",
   "name": "python3"
  },
  "language_info": {
   "codemirror_mode": {
    "name": "ipython",
    "version": 3
   },
   "file_extension": ".py",
   "mimetype": "text/x-python",
   "name": "python",
   "nbconvert_exporter": "python",
   "pygments_lexer": "ipython3",
   "version": "3.12.2"
  }
 },
 "nbformat": 4,
 "nbformat_minor": 5
}
